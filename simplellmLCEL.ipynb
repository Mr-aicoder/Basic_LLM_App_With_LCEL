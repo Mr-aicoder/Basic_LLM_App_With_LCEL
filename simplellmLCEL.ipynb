{
 "cells": [
  {
   "cell_type": "markdown",
   "metadata": {},
   "source": [
    "### Build a Simple LLM Application with LCEL\n",
    "In this quickstart we'll show you how to build a simple LLM application with LangChain. This application will translate text from English into another language. This is a relatively simple LLM application - it's just a single LLM call plus some prompting. Still, this is a great way to get started with LangChain - a lot of features can be built with just some prompting and an LLM call!\n",
    "\n",
    "After seeing this video, you'll have a high level overview of:\n",
    "\n",
    "- Using language models\n",
    "\n",
    "- Using PromptTemplates and OutputParsers\n",
    "\n",
    "- Using LangChain Expression Language (LCEL) to chain components together\n",
    "\n",
    "- Debugging and tracing your application using LangSmith\n",
    "\n",
    "- Deploying your application with LangServe"
   ]
  },
  {
   "cell_type": "code",
   "execution_count": 1,
   "metadata": {},
   "outputs": [
    {
     "name": "stdout",
     "output_type": "stream",
     "text": [
      "Requirement already satisfied: langchain in d:\\agentic_ai_projects\\lcel\\venv\\lib\\site-packages (0.3.26)\n",
      "Requirement already satisfied: langchain-core<1.0.0,>=0.3.66 in d:\\agentic_ai_projects\\lcel\\venv\\lib\\site-packages (from langchain) (0.3.68)\n",
      "Requirement already satisfied: langchain-text-splitters<1.0.0,>=0.3.8 in d:\\agentic_ai_projects\\lcel\\venv\\lib\\site-packages (from langchain) (0.3.8)\n",
      "Requirement already satisfied: langsmith>=0.1.17 in d:\\agentic_ai_projects\\lcel\\venv\\lib\\site-packages (from langchain) (0.4.4)\n",
      "Requirement already satisfied: pydantic<3.0.0,>=2.7.4 in d:\\agentic_ai_projects\\lcel\\venv\\lib\\site-packages (from langchain) (2.11.7)\n",
      "Requirement already satisfied: SQLAlchemy<3,>=1.4 in d:\\agentic_ai_projects\\lcel\\venv\\lib\\site-packages (from langchain) (2.0.41)\n",
      "Requirement already satisfied: requests<3,>=2 in d:\\agentic_ai_projects\\lcel\\venv\\lib\\site-packages (from langchain) (2.32.4)\n",
      "Requirement already satisfied: PyYAML>=5.3 in d:\\agentic_ai_projects\\lcel\\venv\\lib\\site-packages (from langchain) (6.0.2)\n",
      "Requirement already satisfied: async-timeout<5.0.0,>=4.0.0 in d:\\agentic_ai_projects\\lcel\\venv\\lib\\site-packages (from langchain) (4.0.3)\n",
      "Requirement already satisfied: tenacity!=8.4.0,<10.0.0,>=8.1.0 in d:\\agentic_ai_projects\\lcel\\venv\\lib\\site-packages (from langchain-core<1.0.0,>=0.3.66->langchain) (9.1.2)\n",
      "Requirement already satisfied: jsonpatch<2.0,>=1.33 in d:\\agentic_ai_projects\\lcel\\venv\\lib\\site-packages (from langchain-core<1.0.0,>=0.3.66->langchain) (1.33)\n",
      "Requirement already satisfied: packaging<25,>=23.2 in d:\\agentic_ai_projects\\lcel\\venv\\lib\\site-packages (from langchain-core<1.0.0,>=0.3.66->langchain) (24.2)\n",
      "Requirement already satisfied: typing-extensions>=4.7 in d:\\agentic_ai_projects\\lcel\\venv\\lib\\site-packages (from langchain-core<1.0.0,>=0.3.66->langchain) (4.14.1)\n",
      "Requirement already satisfied: jsonpointer>=1.9 in d:\\agentic_ai_projects\\lcel\\venv\\lib\\site-packages (from jsonpatch<2.0,>=1.33->langchain-core<1.0.0,>=0.3.66->langchain) (3.0.0)\n",
      "Requirement already satisfied: annotated-types>=0.6.0 in d:\\agentic_ai_projects\\lcel\\venv\\lib\\site-packages (from pydantic<3.0.0,>=2.7.4->langchain) (0.7.0)\n",
      "Requirement already satisfied: pydantic-core==2.33.2 in d:\\agentic_ai_projects\\lcel\\venv\\lib\\site-packages (from pydantic<3.0.0,>=2.7.4->langchain) (2.33.2)\n",
      "Requirement already satisfied: typing-inspection>=0.4.0 in d:\\agentic_ai_projects\\lcel\\venv\\lib\\site-packages (from pydantic<3.0.0,>=2.7.4->langchain) (0.4.1)\n",
      "Requirement already satisfied: charset_normalizer<4,>=2 in d:\\agentic_ai_projects\\lcel\\venv\\lib\\site-packages (from requests<3,>=2->langchain) (3.4.2)\n",
      "Requirement already satisfied: idna<4,>=2.5 in d:\\agentic_ai_projects\\lcel\\venv\\lib\\site-packages (from requests<3,>=2->langchain) (3.10)\n",
      "Requirement already satisfied: urllib3<3,>=1.21.1 in d:\\agentic_ai_projects\\lcel\\venv\\lib\\site-packages (from requests<3,>=2->langchain) (2.5.0)\n",
      "Requirement already satisfied: certifi>=2017.4.17 in d:\\agentic_ai_projects\\lcel\\venv\\lib\\site-packages (from requests<3,>=2->langchain) (2025.7.9)\n",
      "Requirement already satisfied: greenlet>=1 in d:\\agentic_ai_projects\\lcel\\venv\\lib\\site-packages (from SQLAlchemy<3,>=1.4->langchain) (3.2.3)\n",
      "Requirement already satisfied: httpx<1,>=0.23.0 in d:\\agentic_ai_projects\\lcel\\venv\\lib\\site-packages (from langsmith>=0.1.17->langchain) (0.28.1)\n",
      "Requirement already satisfied: orjson<4.0.0,>=3.9.14 in d:\\agentic_ai_projects\\lcel\\venv\\lib\\site-packages (from langsmith>=0.1.17->langchain) (3.10.18)\n",
      "Requirement already satisfied: requests-toolbelt<2.0.0,>=1.0.0 in d:\\agentic_ai_projects\\lcel\\venv\\lib\\site-packages (from langsmith>=0.1.17->langchain) (1.0.0)\n",
      "Requirement already satisfied: zstandard<0.24.0,>=0.23.0 in d:\\agentic_ai_projects\\lcel\\venv\\lib\\site-packages (from langsmith>=0.1.17->langchain) (0.23.0)\n",
      "Requirement already satisfied: anyio in d:\\agentic_ai_projects\\lcel\\venv\\lib\\site-packages (from httpx<1,>=0.23.0->langsmith>=0.1.17->langchain) (4.9.0)\n",
      "Requirement already satisfied: httpcore==1.* in d:\\agentic_ai_projects\\lcel\\venv\\lib\\site-packages (from httpx<1,>=0.23.0->langsmith>=0.1.17->langchain) (1.0.9)\n",
      "Requirement already satisfied: h11>=0.16 in d:\\agentic_ai_projects\\lcel\\venv\\lib\\site-packages (from httpcore==1.*->httpx<1,>=0.23.0->langsmith>=0.1.17->langchain) (0.16.0)\n",
      "Requirement already satisfied: exceptiongroup>=1.0.2 in d:\\agentic_ai_projects\\lcel\\venv\\lib\\site-packages (from anyio->httpx<1,>=0.23.0->langsmith>=0.1.17->langchain) (1.3.0)\n",
      "Requirement already satisfied: sniffio>=1.1 in d:\\agentic_ai_projects\\lcel\\venv\\lib\\site-packages (from anyio->httpx<1,>=0.23.0->langsmith>=0.1.17->langchain) (1.3.1)\n"
     ]
    }
   ],
   "source": [
    "!pip install langchain"
   ]
  },
  {
   "cell_type": "code",
   "execution_count": 2,
   "metadata": {},
   "outputs": [
    {
     "data": {
      "text/plain": [
       
      ]
     },
     "execution_count": 2,
     "metadata": {},
     "output_type": "execute_result"
    }
   ],
   "source": [
    "### Open AI API Key and Open Source models--Llama3,Gemma2,mistral--Groq\n",
    "\n",
    "import os\n",
    "from dotenv import load_dotenv\n",
    "load_dotenv()\n",
    "\n",
    "import openai\n",
    "openai.api_key=os.getenv(\"OPENAI_API_KEY\")\n",
    "\n",
    "groq_api_key=os.getenv(\"GROQ_API_KEY\")\n",
    "groq_api_key"
   ]
  },
  {
   "cell_type": "code",
   "execution_count": 3,
   "metadata": {},
   "outputs": [
    {
     "name": "stdout",
     "output_type": "stream",
     "text": [
      "Requirement already satisfied: langchain_groq in d:\\agentic_ai_projects\\lcel\\venv\\lib\\site-packages (0.3.5)\n",
      "Requirement already satisfied: langchain-core<1.0.0,>=0.3.67 in d:\\agentic_ai_projects\\lcel\\venv\\lib\\site-packages (from langchain_groq) (0.3.68)\n",
      "Requirement already satisfied: groq<1,>=0.29.0 in d:\\agentic_ai_projects\\lcel\\venv\\lib\\site-packages (from langchain_groq) (0.29.0)\n",
      "Requirement already satisfied: anyio<5,>=3.5.0 in d:\\agentic_ai_projects\\lcel\\venv\\lib\\site-packages (from groq<1,>=0.29.0->langchain_groq) (4.9.0)\n",
      "Requirement already satisfied: distro<2,>=1.7.0 in d:\\agentic_ai_projects\\lcel\\venv\\lib\\site-packages (from groq<1,>=0.29.0->langchain_groq) (1.9.0)\n",
      "Requirement already satisfied: httpx<1,>=0.23.0 in d:\\agentic_ai_projects\\lcel\\venv\\lib\\site-packages (from groq<1,>=0.29.0->langchain_groq) (0.28.1)\n",
      "Requirement already satisfied: pydantic<3,>=1.9.0 in d:\\agentic_ai_projects\\lcel\\venv\\lib\\site-packages (from groq<1,>=0.29.0->langchain_groq) (2.11.7)\n",
      "Requirement already satisfied: sniffio in d:\\agentic_ai_projects\\lcel\\venv\\lib\\site-packages (from groq<1,>=0.29.0->langchain_groq) (1.3.1)\n",
      "Requirement already satisfied: typing-extensions<5,>=4.10 in d:\\agentic_ai_projects\\lcel\\venv\\lib\\site-packages (from groq<1,>=0.29.0->langchain_groq) (4.14.1)\n",
      "Requirement already satisfied: exceptiongroup>=1.0.2 in d:\\agentic_ai_projects\\lcel\\venv\\lib\\site-packages (from anyio<5,>=3.5.0->groq<1,>=0.29.0->langchain_groq) (1.3.0)\n",
      "Requirement already satisfied: idna>=2.8 in d:\\agentic_ai_projects\\lcel\\venv\\lib\\site-packages (from anyio<5,>=3.5.0->groq<1,>=0.29.0->langchain_groq) (3.10)\n",
      "Requirement already satisfied: certifi in d:\\agentic_ai_projects\\lcel\\venv\\lib\\site-packages (from httpx<1,>=0.23.0->groq<1,>=0.29.0->langchain_groq) (2025.7.9)\n",
      "Requirement already satisfied: httpcore==1.* in d:\\agentic_ai_projects\\lcel\\venv\\lib\\site-packages (from httpx<1,>=0.23.0->groq<1,>=0.29.0->langchain_groq) (1.0.9)\n",
      "Requirement already satisfied: h11>=0.16 in d:\\agentic_ai_projects\\lcel\\venv\\lib\\site-packages (from httpcore==1.*->httpx<1,>=0.23.0->groq<1,>=0.29.0->langchain_groq) (0.16.0)\n",
      "Requirement already satisfied: langsmith>=0.3.45 in d:\\agentic_ai_projects\\lcel\\venv\\lib\\site-packages (from langchain-core<1.0.0,>=0.3.67->langchain_groq) (0.4.4)\n",
      "Requirement already satisfied: tenacity!=8.4.0,<10.0.0,>=8.1.0 in d:\\agentic_ai_projects\\lcel\\venv\\lib\\site-packages (from langchain-core<1.0.0,>=0.3.67->langchain_groq) (9.1.2)\n",
      "Requirement already satisfied: jsonpatch<2.0,>=1.33 in d:\\agentic_ai_projects\\lcel\\venv\\lib\\site-packages (from langchain-core<1.0.0,>=0.3.67->langchain_groq) (1.33)\n",
      "Requirement already satisfied: PyYAML>=5.3 in d:\\agentic_ai_projects\\lcel\\venv\\lib\\site-packages (from langchain-core<1.0.0,>=0.3.67->langchain_groq) (6.0.2)\n",
      "Requirement already satisfied: packaging<25,>=23.2 in d:\\agentic_ai_projects\\lcel\\venv\\lib\\site-packages (from langchain-core<1.0.0,>=0.3.67->langchain_groq) (24.2)\n",
      "Requirement already satisfied: jsonpointer>=1.9 in d:\\agentic_ai_projects\\lcel\\venv\\lib\\site-packages (from jsonpatch<2.0,>=1.33->langchain-core<1.0.0,>=0.3.67->langchain_groq) (3.0.0)\n",
      "Requirement already satisfied: annotated-types>=0.6.0 in d:\\agentic_ai_projects\\lcel\\venv\\lib\\site-packages (from pydantic<3,>=1.9.0->groq<1,>=0.29.0->langchain_groq) (0.7.0)\n",
      "Requirement already satisfied: pydantic-core==2.33.2 in d:\\agentic_ai_projects\\lcel\\venv\\lib\\site-packages (from pydantic<3,>=1.9.0->groq<1,>=0.29.0->langchain_groq) (2.33.2)\n",
      "Requirement already satisfied: typing-inspection>=0.4.0 in d:\\agentic_ai_projects\\lcel\\venv\\lib\\site-packages (from pydantic<3,>=1.9.0->groq<1,>=0.29.0->langchain_groq) (0.4.1)\n",
      "Requirement already satisfied: orjson<4.0.0,>=3.9.14 in d:\\agentic_ai_projects\\lcel\\venv\\lib\\site-packages (from langsmith>=0.3.45->langchain-core<1.0.0,>=0.3.67->langchain_groq) (3.10.18)\n",
      "Requirement already satisfied: requests<3,>=2 in d:\\agentic_ai_projects\\lcel\\venv\\lib\\site-packages (from langsmith>=0.3.45->langchain-core<1.0.0,>=0.3.67->langchain_groq) (2.32.4)\n",
      "Requirement already satisfied: requests-toolbelt<2.0.0,>=1.0.0 in d:\\agentic_ai_projects\\lcel\\venv\\lib\\site-packages (from langsmith>=0.3.45->langchain-core<1.0.0,>=0.3.67->langchain_groq) (1.0.0)\n",
      "Requirement already satisfied: zstandard<0.24.0,>=0.23.0 in d:\\agentic_ai_projects\\lcel\\venv\\lib\\site-packages (from langsmith>=0.3.45->langchain-core<1.0.0,>=0.3.67->langchain_groq) (0.23.0)\n",
      "Requirement already satisfied: charset_normalizer<4,>=2 in d:\\agentic_ai_projects\\lcel\\venv\\lib\\site-packages (from requests<3,>=2->langsmith>=0.3.45->langchain-core<1.0.0,>=0.3.67->langchain_groq) (3.4.2)\n",
      "Requirement already satisfied: urllib3<3,>=1.21.1 in d:\\agentic_ai_projects\\lcel\\venv\\lib\\site-packages (from requests<3,>=2->langsmith>=0.3.45->langchain-core<1.0.0,>=0.3.67->langchain_groq) (2.5.0)\n"
     ]
    }
   ],
   "source": [
    "!pip install langchain_groq"
   ]
  },
  {
   "cell_type": "code",
   "execution_count": 4,
   "metadata": {},
   "outputs": [
    {
     "data": {
      "text/plain": [
       "ChatGroq(client=<groq.resources.chat.completions.Completions object at 0x000001F71CA08430>, async_client=<groq.resources.chat.completions.AsyncCompletions object at 0x000001F71C832E30>, model_name='Gemma2-9b-It', model_kwargs={}, groq_api_key=SecretStr('**********'))"
      ]
     },
     "execution_count": 4,
     "metadata": {},
     "output_type": "execute_result"
    }
   ],
   "source": [
    "from langchain_openai import ChatOpenAI\n",
    "from langchain_groq import ChatGroq\n",
    "model=ChatGroq(model=\"Gemma2-9b-It\",groq_api_key=groq_api_key)\n",
    "model"
   ]
  },
  {
   "cell_type": "code",
   "execution_count": 5,
   "metadata": {},
   "outputs": [
    {
     "name": "stdout",
     "output_type": "stream",
     "text": [
      "Requirement already satisfied: langchain_core in d:\\agentic_ai_projects\\lcel\\venv\\lib\\site-packages (0.3.68)\n",
      "Requirement already satisfied: langsmith>=0.3.45 in d:\\agentic_ai_projects\\lcel\\venv\\lib\\site-packages (from langchain_core) (0.4.4)\n",
      "Requirement already satisfied: tenacity!=8.4.0,<10.0.0,>=8.1.0 in d:\\agentic_ai_projects\\lcel\\venv\\lib\\site-packages (from langchain_core) (9.1.2)\n",
      "Requirement already satisfied: jsonpatch<2.0,>=1.33 in d:\\agentic_ai_projects\\lcel\\venv\\lib\\site-packages (from langchain_core) (1.33)\n",
      "Requirement already satisfied: PyYAML>=5.3 in d:\\agentic_ai_projects\\lcel\\venv\\lib\\site-packages (from langchain_core) (6.0.2)\n",
      "Requirement already satisfied: packaging<25,>=23.2 in d:\\agentic_ai_projects\\lcel\\venv\\lib\\site-packages (from langchain_core) (24.2)\n",
      "Requirement already satisfied: typing-extensions>=4.7 in d:\\agentic_ai_projects\\lcel\\venv\\lib\\site-packages (from langchain_core) (4.14.1)\n",
      "Requirement already satisfied: pydantic>=2.7.4 in d:\\agentic_ai_projects\\lcel\\venv\\lib\\site-packages (from langchain_core) (2.11.7)\n",
      "Requirement already satisfied: jsonpointer>=1.9 in d:\\agentic_ai_projects\\lcel\\venv\\lib\\site-packages (from jsonpatch<2.0,>=1.33->langchain_core) (3.0.0)\n",
      "Requirement already satisfied: httpx<1,>=0.23.0 in d:\\agentic_ai_projects\\lcel\\venv\\lib\\site-packages (from langsmith>=0.3.45->langchain_core) (0.28.1)\n",
      "Requirement already satisfied: orjson<4.0.0,>=3.9.14 in d:\\agentic_ai_projects\\lcel\\venv\\lib\\site-packages (from langsmith>=0.3.45->langchain_core) (3.10.18)\n",
      "Requirement already satisfied: requests<3,>=2 in d:\\agentic_ai_projects\\lcel\\venv\\lib\\site-packages (from langsmith>=0.3.45->langchain_core) (2.32.4)\n",
      "Requirement already satisfied: requests-toolbelt<2.0.0,>=1.0.0 in d:\\agentic_ai_projects\\lcel\\venv\\lib\\site-packages (from langsmith>=0.3.45->langchain_core) (1.0.0)\n",
      "Requirement already satisfied: zstandard<0.24.0,>=0.23.0 in d:\\agentic_ai_projects\\lcel\\venv\\lib\\site-packages (from langsmith>=0.3.45->langchain_core) (0.23.0)\n",
      "Requirement already satisfied: anyio in d:\\agentic_ai_projects\\lcel\\venv\\lib\\site-packages (from httpx<1,>=0.23.0->langsmith>=0.3.45->langchain_core) (4.9.0)\n",
      "Requirement already satisfied: certifi in d:\\agentic_ai_projects\\lcel\\venv\\lib\\site-packages (from httpx<1,>=0.23.0->langsmith>=0.3.45->langchain_core) (2025.7.9)\n",
      "Requirement already satisfied: httpcore==1.* in d:\\agentic_ai_projects\\lcel\\venv\\lib\\site-packages (from httpx<1,>=0.23.0->langsmith>=0.3.45->langchain_core) (1.0.9)\n",
      "Requirement already satisfied: idna in d:\\agentic_ai_projects\\lcel\\venv\\lib\\site-packages (from httpx<1,>=0.23.0->langsmith>=0.3.45->langchain_core) (3.10)\n",
      "Requirement already satisfied: h11>=0.16 in d:\\agentic_ai_projects\\lcel\\venv\\lib\\site-packages (from httpcore==1.*->httpx<1,>=0.23.0->langsmith>=0.3.45->langchain_core) (0.16.0)\n",
      "Requirement already satisfied: annotated-types>=0.6.0 in d:\\agentic_ai_projects\\lcel\\venv\\lib\\site-packages (from pydantic>=2.7.4->langchain_core) (0.7.0)\n",
      "Requirement already satisfied: pydantic-core==2.33.2 in d:\\agentic_ai_projects\\lcel\\venv\\lib\\site-packages (from pydantic>=2.7.4->langchain_core) (2.33.2)\n",
      "Requirement already satisfied: typing-inspection>=0.4.0 in d:\\agentic_ai_projects\\lcel\\venv\\lib\\site-packages (from pydantic>=2.7.4->langchain_core) (0.4.1)\n",
      "Requirement already satisfied: charset_normalizer<4,>=2 in d:\\agentic_ai_projects\\lcel\\venv\\lib\\site-packages (from requests<3,>=2->langsmith>=0.3.45->langchain_core) (3.4.2)\n",
      "Requirement already satisfied: urllib3<3,>=1.21.1 in d:\\agentic_ai_projects\\lcel\\venv\\lib\\site-packages (from requests<3,>=2->langsmith>=0.3.45->langchain_core) (2.5.0)\n",
      "Requirement already satisfied: exceptiongroup>=1.0.2 in d:\\agentic_ai_projects\\lcel\\venv\\lib\\site-packages (from anyio->httpx<1,>=0.23.0->langsmith>=0.3.45->langchain_core) (1.3.0)\n",
      "Requirement already satisfied: sniffio>=1.1 in d:\\agentic_ai_projects\\lcel\\venv\\lib\\site-packages (from anyio->httpx<1,>=0.23.0->langsmith>=0.3.45->langchain_core) (1.3.1)\n"
     ]
    }
   ],
   "source": [
    "!pip install langchain_core"
   ]
  },
  {
   "cell_type": "code",
   "execution_count": 6,
   "metadata": {},
   "outputs": [],
   "source": [
    "from langchain_core.messages import HumanMessage,SystemMessage\n",
    "\n",
    "messages=[\n",
    "    SystemMessage(content=\"Translate the following from English to French\"),\n",
    "    HumanMessage(content=\"Hello How are you?\")\n",
    "]\n",
    "\n",
    "result=model.invoke(messages)"
   ]
  },
  {
   "cell_type": "code",
   "execution_count": 7,
   "metadata": {},
   "outputs": [
    {
     "data": {
      "text/plain": [
       "AIMessage(content='Here are a few ways to say \"Hello, how are you?\" in French:\\n\\n**Formal:**\\n\\n* **Bonjour, comment allez-vous ?** (This is the most polite and formal way to greet someone.)\\n\\n**Informal:**\\n\\n* **Salut, ça va ?** (This is a common and casual greeting among friends.)\\n* **Coucou, comment vas-tu ?** (This is a more friendly and informal greeting, often used with close friends.) \\n\\nLet me know if you\\'d like more options!\\n', additional_kwargs={}, response_metadata={'token_usage': {'completion_tokens': 112, 'prompt_tokens': 21, 'total_tokens': 133, 'completion_time': 0.203636364, 'prompt_time': 0.002095173, 'queue_time': 0.258647242, 'total_time': 0.205731537}, 'model_name': 'Gemma2-9b-It', 'system_fingerprint': 'fp_10c08bf97d', 'finish_reason': 'stop', 'logprobs': None}, id='run--57f89ec8-81f2-4d4d-a83a-86a49a983fc5-0', usage_metadata={'input_tokens': 21, 'output_tokens': 112, 'total_tokens': 133})"
      ]
     },
     "execution_count": 7,
     "metadata": {},
     "output_type": "execute_result"
    }
   ],
   "source": [
    "result"
   ]
  },
  {
   "cell_type": "code",
   "execution_count": 8,
   "metadata": {},
   "outputs": [
    {
     "data": {
      "text/plain": [
       "'Here are a few ways to say \"Hello, how are you?\" in French:\\n\\n**Formal:**\\n\\n* **Bonjour, comment allez-vous ?** (This is the most polite and formal way to greet someone.)\\n\\n**Informal:**\\n\\n* **Salut, ça va ?** (This is a common and casual greeting among friends.)\\n* **Coucou, comment vas-tu ?** (This is a more friendly and informal greeting, often used with close friends.) \\n\\nLet me know if you\\'d like more options!\\n'"
      ]
     },
     "execution_count": 8,
     "metadata": {},
     "output_type": "execute_result"
    }
   ],
   "source": [
    "from langchain_core.output_parsers import StrOutputParser\n",
    "parser=StrOutputParser()\n",
    "parser.invoke(result)"
   ]
  },
  {
   "cell_type": "code",
   "execution_count": 9,
   "metadata": {},
   "outputs": [
    {
     "data": {
      "text/plain": [
       "'Here are a few ways to say \"Hello, how are you?\" in French:\\n\\n* **Bonjour, comment allez-vous ?** (Formal)\\n* **Salut, comment vas-tu ?** (Informal)\\n* **Bonjour, ça va ?** (Informal) \\n\\n\\nLet me know if you\\'d like to know more about French greetings!\\n'"
      ]
     },
     "execution_count": 9,
     "metadata": {},
     "output_type": "execute_result"
    }
   ],
   "source": [
    "### Using LCEL- chain the components\n",
    "chain=model|parser\n",
    "chain.invoke(messages)"
   ]
  },
  {
   "cell_type": "code",
   "execution_count": 10,
   "metadata": {},
   "outputs": [],
   "source": [
    "### Prompt Templates\n",
    "from langchain_core.prompts import ChatPromptTemplate\n",
    "\n",
    "generic_template=\"Trnaslate the following into {language}:\"\n",
    "\n",
    "prompt=ChatPromptTemplate.from_messages(\n",
    "    [(\"system\",generic_template),(\"user\",\"{text}\")]\n",
    ")\n",
    "\n"
   ]
  },
  {
   "cell_type": "code",
   "execution_count": 11,
   "metadata": {},
   "outputs": [],
   "source": [
    "result=prompt.invoke({\"language\":\"French\",\"text\":\"Hello\"})"
   ]
  },
  {
   "cell_type": "code",
   "execution_count": 12,
   "metadata": {},
   "outputs": [
    {
     "data": {
      "text/plain": [
       "[SystemMessage(content='Trnaslate the following into French:', additional_kwargs={}, response_metadata={}),\n",
       " HumanMessage(content='Hello', additional_kwargs={}, response_metadata={})]"
      ]
     },
     "execution_count": 12,
     "metadata": {},
     "output_type": "execute_result"
    }
   ],
   "source": [
    "result.to_messages()"
   ]
  },
  {
   "cell_type": "code",
   "execution_count": 13,
   "metadata": {},
   "outputs": [
    {
     "data": {
      "text/plain": [
       "'Bonjour \\n'"
      ]
     },
     "execution_count": 13,
     "metadata": {},
     "output_type": "execute_result"
    }
   ],
   "source": [
    "##Chaining together components with LCEL\n",
    "chain=prompt|model|parser\n",
    "chain.invoke({\"language\":\"French\",\"text\":\"Hello\"})"
   ]
  },
  {
   "cell_type": "code",
   "execution_count": 14,
   "metadata": {},
   "outputs": [
    {
     "name": "stdout",
     "output_type": "stream",
     "text": [
      "Collecting streamlit\n",
      "  Downloading streamlit-1.46.1-py3-none-any.whl.metadata (9.0 kB)\n",
      "Collecting altair<6,>=4.0 (from streamlit)\n",
      "  Downloading altair-5.5.0-py3-none-any.whl.metadata (11 kB)\n",
      "Collecting blinker<2,>=1.5.0 (from streamlit)\n",
      "  Downloading blinker-1.9.0-py3-none-any.whl.metadata (1.6 kB)\n",
      "Requirement already satisfied: cachetools<7,>=4.0 in d:\\agentic_ai_projects\\lcel\\venv\\lib\\site-packages (from streamlit) (5.5.2)\n",
      "Requirement already satisfied: click<9,>=7.0 in d:\\agentic_ai_projects\\lcel\\venv\\lib\\site-packages (from streamlit) (8.2.1)\n",
      "Requirement already satisfied: numpy<3,>=1.23 in d:\\agentic_ai_projects\\lcel\\venv\\lib\\site-packages (from streamlit) (2.2.6)\n",
      "Requirement already satisfied: packaging<26,>=20 in d:\\agentic_ai_projects\\lcel\\venv\\lib\\site-packages (from streamlit) (24.2)\n",
      "Requirement already satisfied: pandas<3,>=1.4.0 in d:\\agentic_ai_projects\\lcel\\venv\\lib\\site-packages (from streamlit) (2.3.1)\n",
      "Requirement already satisfied: pillow<12,>=7.1.0 in d:\\agentic_ai_projects\\lcel\\venv\\lib\\site-packages (from streamlit) (11.3.0)\n",
      "Requirement already satisfied: protobuf<7,>=3.20 in d:\\agentic_ai_projects\\lcel\\venv\\lib\\site-packages (from streamlit) (5.29.5)\n",
      "Collecting pyarrow>=7.0 (from streamlit)\n",
      "  Downloading pyarrow-20.0.0-cp310-cp310-win_amd64.whl.metadata (3.4 kB)\n",
      "Requirement already satisfied: requests<3,>=2.27 in d:\\agentic_ai_projects\\lcel\\venv\\lib\\site-packages (from streamlit) (2.32.4)\n",
      "Requirement already satisfied: tenacity<10,>=8.1.0 in d:\\agentic_ai_projects\\lcel\\venv\\lib\\site-packages (from streamlit) (9.1.2)\n",
      "Collecting toml<2,>=0.10.1 (from streamlit)\n",
      "  Downloading toml-0.10.2-py2.py3-none-any.whl.metadata (7.1 kB)\n",
      "Requirement already satisfied: typing-extensions<5,>=4.4.0 in d:\\agentic_ai_projects\\lcel\\venv\\lib\\site-packages (from streamlit) (4.14.1)\n",
      "Collecting watchdog<7,>=2.1.5 (from streamlit)\n",
      "  Downloading watchdog-6.0.0-py3-none-win_amd64.whl.metadata (44 kB)\n",
      "Collecting gitpython!=3.1.19,<4,>=3.0.7 (from streamlit)\n",
      "  Downloading GitPython-3.1.44-py3-none-any.whl.metadata (13 kB)\n",
      "Collecting pydeck<1,>=0.8.0b4 (from streamlit)\n",
      "  Using cached pydeck-0.9.1-py2.py3-none-any.whl.metadata (4.1 kB)\n",
      "Requirement already satisfied: tornado!=6.5.0,<7,>=6.0.3 in d:\\agentic_ai_projects\\lcel\\venv\\lib\\site-packages (from streamlit) (6.5.1)\n",
      "Requirement already satisfied: jinja2 in d:\\agentic_ai_projects\\lcel\\venv\\lib\\site-packages (from altair<6,>=4.0->streamlit) (3.1.6)\n",
      "Requirement already satisfied: jsonschema>=3.0 in d:\\agentic_ai_projects\\lcel\\venv\\lib\\site-packages (from altair<6,>=4.0->streamlit) (4.24.0)\n",
      "Collecting narwhals>=1.14.2 (from altair<6,>=4.0->streamlit)\n",
      "  Downloading narwhals-1.46.0-py3-none-any.whl.metadata (11 kB)\n",
      "Requirement already satisfied: colorama in d:\\agentic_ai_projects\\lcel\\venv\\lib\\site-packages (from click<9,>=7.0->streamlit) (0.4.6)\n",
      "Collecting gitdb<5,>=4.0.1 (from gitpython!=3.1.19,<4,>=3.0.7->streamlit)\n",
      "  Downloading gitdb-4.0.12-py3-none-any.whl.metadata (1.2 kB)\n",
      "Collecting smmap<6,>=3.0.1 (from gitdb<5,>=4.0.1->gitpython!=3.1.19,<4,>=3.0.7->streamlit)\n",
      "  Downloading smmap-5.0.2-py3-none-any.whl.metadata (4.3 kB)\n",
      "Requirement already satisfied: python-dateutil>=2.8.2 in d:\\agentic_ai_projects\\lcel\\venv\\lib\\site-packages (from pandas<3,>=1.4.0->streamlit) (2.9.0.post0)\n",
      "Requirement already satisfied: pytz>=2020.1 in d:\\agentic_ai_projects\\lcel\\venv\\lib\\site-packages (from pandas<3,>=1.4.0->streamlit) (2025.2)\n",
      "Requirement already satisfied: tzdata>=2022.7 in d:\\agentic_ai_projects\\lcel\\venv\\lib\\site-packages (from pandas<3,>=1.4.0->streamlit) (2025.2)\n",
      "Requirement already satisfied: charset_normalizer<4,>=2 in d:\\agentic_ai_projects\\lcel\\venv\\lib\\site-packages (from requests<3,>=2.27->streamlit) (3.4.2)\n",
      "Requirement already satisfied: idna<4,>=2.5 in d:\\agentic_ai_projects\\lcel\\venv\\lib\\site-packages (from requests<3,>=2.27->streamlit) (3.10)\n",
      "Requirement already satisfied: urllib3<3,>=1.21.1 in d:\\agentic_ai_projects\\lcel\\venv\\lib\\site-packages (from requests<3,>=2.27->streamlit) (2.5.0)\n",
      "Requirement already satisfied: certifi>=2017.4.17 in d:\\agentic_ai_projects\\lcel\\venv\\lib\\site-packages (from requests<3,>=2.27->streamlit) (2025.7.9)\n",
      "Requirement already satisfied: MarkupSafe>=2.0 in d:\\agentic_ai_projects\\lcel\\venv\\lib\\site-packages (from jinja2->altair<6,>=4.0->streamlit) (3.0.2)\n",
      "Requirement already satisfied: attrs>=22.2.0 in d:\\agentic_ai_projects\\lcel\\venv\\lib\\site-packages (from jsonschema>=3.0->altair<6,>=4.0->streamlit) (25.3.0)\n",
      "Requirement already satisfied: jsonschema-specifications>=2023.03.6 in d:\\agentic_ai_projects\\lcel\\venv\\lib\\site-packages (from jsonschema>=3.0->altair<6,>=4.0->streamlit) (2025.4.1)\n",
      "Requirement already satisfied: referencing>=0.28.4 in d:\\agentic_ai_projects\\lcel\\venv\\lib\\site-packages (from jsonschema>=3.0->altair<6,>=4.0->streamlit) (0.36.2)\n",
      "Requirement already satisfied: rpds-py>=0.7.1 in d:\\agentic_ai_projects\\lcel\\venv\\lib\\site-packages (from jsonschema>=3.0->altair<6,>=4.0->streamlit) (0.26.0)\n",
      "Requirement already satisfied: six>=1.5 in d:\\agentic_ai_projects\\lcel\\venv\\lib\\site-packages (from python-dateutil>=2.8.2->pandas<3,>=1.4.0->streamlit) (1.17.0)\n",
      "Downloading streamlit-1.46.1-py3-none-any.whl (10.1 MB)\n",
      "   ---------------------------------------- 0.0/10.1 MB ? eta -:--:--\n",
      "   ---------------------------------------- 0.0/10.1 MB ? eta -:--:--\n",
      "   -- ------------------------------------- 0.5/10.1 MB 2.4 MB/s eta 0:00:04\n",
      "   ----- ---------------------------------- 1.3/10.1 MB 2.6 MB/s eta 0:00:04\n",
      "   ------- -------------------------------- 1.8/10.1 MB 2.6 MB/s eta 0:00:04\n",
      "   --------- ------------------------------ 2.4/10.1 MB 2.6 MB/s eta 0:00:03\n",
      "   ------------- -------------------------- 3.4/10.1 MB 3.1 MB/s eta 0:00:03\n",
      "   ---------------- ----------------------- 4.2/10.1 MB 3.1 MB/s eta 0:00:02\n",
      "   ------------------ --------------------- 4.7/10.1 MB 3.0 MB/s eta 0:00:02\n",
      "   -------------------- ------------------- 5.2/10.1 MB 3.0 MB/s eta 0:00:02\n",
      "   ----------------------- ---------------- 6.0/10.1 MB 3.1 MB/s eta 0:00:02\n",
      "   ----------------------------- ---------- 7.3/10.1 MB 3.3 MB/s eta 0:00:01\n",
      "   ---------------------------------- ----- 8.7/10.1 MB 3.6 MB/s eta 0:00:01\n",
      "   ---------------------------------------- 10.1/10.1 MB 3.8 MB/s eta 0:00:00\n",
      "Downloading altair-5.5.0-py3-none-any.whl (731 kB)\n",
      "   ---------------------------------------- 0.0/731.2 kB ? eta -:--:--\n",
      "   ---------------------------------------- 731.2/731.2 kB 7.6 MB/s eta 0:00:00\n",
      "Downloading blinker-1.9.0-py3-none-any.whl (8.5 kB)\n",
      "Downloading GitPython-3.1.44-py3-none-any.whl (207 kB)\n",
      "Downloading gitdb-4.0.12-py3-none-any.whl (62 kB)\n",
      "Using cached pydeck-0.9.1-py2.py3-none-any.whl (6.9 MB)\n",
      "Downloading smmap-5.0.2-py3-none-any.whl (24 kB)\n",
      "Downloading toml-0.10.2-py2.py3-none-any.whl (16 kB)\n",
      "Downloading watchdog-6.0.0-py3-none-win_amd64.whl (79 kB)\n",
      "Downloading narwhals-1.46.0-py3-none-any.whl (373 kB)\n",
      "Downloading pyarrow-20.0.0-cp310-cp310-win_amd64.whl (25.8 MB)\n",
      "   ---------------------------------------- 0.0/25.8 MB ? eta -:--:--\n",
      "   -- ------------------------------------- 1.6/25.8 MB 7.0 MB/s eta 0:00:04\n",
      "   ---- ----------------------------------- 3.1/25.8 MB 7.1 MB/s eta 0:00:04\n",
      "   ------- -------------------------------- 5.0/25.8 MB 7.5 MB/s eta 0:00:03\n",
      "   --------- ------------------------------ 6.3/25.8 MB 7.1 MB/s eta 0:00:03\n",
      "   ---------- ----------------------------- 6.6/25.8 MB 6.9 MB/s eta 0:00:03\n",
      "   ------------- -------------------------- 8.4/25.8 MB 6.8 MB/s eta 0:00:03\n",
      "   --------------- ------------------------ 9.7/25.8 MB 6.4 MB/s eta 0:00:03\n",
      "   ---------------- ----------------------- 10.7/25.8 MB 6.3 MB/s eta 0:00:03\n",
      "   ------------------ --------------------- 12.1/25.8 MB 6.3 MB/s eta 0:00:03\n",
      "   --------------------- ------------------ 13.6/25.8 MB 6.4 MB/s eta 0:00:02\n",
      "   ----------------------- ---------------- 15.2/25.8 MB 6.5 MB/s eta 0:00:02\n",
      "   ------------------------- -------------- 16.3/25.8 MB 6.4 MB/s eta 0:00:02\n",
      "   --------------------------- ------------ 17.6/25.8 MB 6.4 MB/s eta 0:00:02\n",
      "   ----------------------------- ---------- 19.1/25.8 MB 6.4 MB/s eta 0:00:02\n",
      "   -------------------------------- ------- 20.7/25.8 MB 6.4 MB/s eta 0:00:01\n",
      "   ---------------------------------- ----- 22.3/25.8 MB 6.4 MB/s eta 0:00:01\n",
      "   ------------------------------------- -- 24.4/25.8 MB 6.6 MB/s eta 0:00:01\n",
      "   ---------------------------------------  25.7/25.8 MB 6.8 MB/s eta 0:00:01\n",
      "   ---------------------------------------- 25.8/25.8 MB 6.6 MB/s eta 0:00:00\n",
      "Installing collected packages: watchdog, toml, smmap, pyarrow, narwhals, blinker, pydeck, gitdb, gitpython, altair, streamlit\n",
      "\n",
      "   ----------------------------------------  0/11 [watchdog]\n",
      "   ----------------------------------------  0/11 [watchdog]\n",
      "   ----------------------------------------  0/11 [watchdog]\n",
      "   ----------------------------------------  0/11 [watchdog]\n",
      "   ----------------------------------------  0/11 [watchdog]\n",
      "   --- ------------------------------------  1/11 [toml]\n",
      "   --- ------------------------------------  1/11 [toml]\n",
      "   ------- --------------------------------  2/11 [smmap]\n",
      "   ------- --------------------------------  2/11 [smmap]\n",
      "   ---------- -----------------------------  3/11 [pyarrow]\n",
      "   ---------- -----------------------------  3/11 [pyarrow]\n",
      "   ---------- -----------------------------  3/11 [pyarrow]\n",
      "   ---------- -----------------------------  3/11 [pyarrow]\n",
      "   ---------- -----------------------------  3/11 [pyarrow]\n",
      "   ---------- -----------------------------  3/11 [pyarrow]\n",
      "   ---------- -----------------------------  3/11 [pyarrow]\n",
      "   ---------- -----------------------------  3/11 [pyarrow]\n",
      "   ---------- -----------------------------  3/11 [pyarrow]\n",
      "   ---------- -----------------------------  3/11 [pyarrow]\n",
      "   ---------- -----------------------------  3/11 [pyarrow]\n",
      "   ---------- -----------------------------  3/11 [pyarrow]\n",
      "   ---------- -----------------------------  3/11 [pyarrow]\n",
      "   ---------- -----------------------------  3/11 [pyarrow]\n",
      "   ---------- -----------------------------  3/11 [pyarrow]\n",
      "   ---------- -----------------------------  3/11 [pyarrow]\n",
      "   ---------- -----------------------------  3/11 [pyarrow]\n",
      "   ---------- -----------------------------  3/11 [pyarrow]\n",
      "   ---------- -----------------------------  3/11 [pyarrow]\n",
      "   ---------- -----------------------------  3/11 [pyarrow]\n",
      "   ---------- -----------------------------  3/11 [pyarrow]\n",
      "   ---------- -----------------------------  3/11 [pyarrow]\n",
      "   ---------- -----------------------------  3/11 [pyarrow]\n",
      "   ---------- -----------------------------  3/11 [pyarrow]\n",
      "   ---------- -----------------------------  3/11 [pyarrow]\n",
      "   ---------- -----------------------------  3/11 [pyarrow]\n",
      "   ---------- -----------------------------  3/11 [pyarrow]\n",
      "   ---------- -----------------------------  3/11 [pyarrow]\n",
      "   ---------- -----------------------------  3/11 [pyarrow]\n",
      "   ---------- -----------------------------  3/11 [pyarrow]\n",
      "   ---------- -----------------------------  3/11 [pyarrow]\n",
      "   ---------- -----------------------------  3/11 [pyarrow]\n",
      "   ---------- -----------------------------  3/11 [pyarrow]\n",
      "   ---------- -----------------------------  3/11 [pyarrow]\n",
      "   -------------- -------------------------  4/11 [narwhals]\n",
      "   -------------- -------------------------  4/11 [narwhals]\n",
      "   -------------- -------------------------  4/11 [narwhals]\n",
      "   -------------- -------------------------  4/11 [narwhals]\n",
      "   -------------- -------------------------  4/11 [narwhals]\n",
      "   -------------- -------------------------  4/11 [narwhals]\n",
      "   -------------- -------------------------  4/11 [narwhals]\n",
      "   -------------- -------------------------  4/11 [narwhals]\n",
      "   -------------- -------------------------  4/11 [narwhals]\n",
      "   -------------- -------------------------  4/11 [narwhals]\n",
      "   -------------- -------------------------  4/11 [narwhals]\n",
      "   -------------- -------------------------  4/11 [narwhals]\n",
      "   -------------- -------------------------  4/11 [narwhals]\n",
      "   -------------- -------------------------  4/11 [narwhals]\n",
      "   -------------- -------------------------  4/11 [narwhals]\n",
      "   -------------- -------------------------  4/11 [narwhals]\n",
      "   -------------- -------------------------  4/11 [narwhals]\n",
      "   -------------- -------------------------  4/11 [narwhals]\n",
      "   -------------- -------------------------  4/11 [narwhals]\n",
      "   -------------- -------------------------  4/11 [narwhals]\n",
      "   -------------- -------------------------  4/11 [narwhals]\n",
      "   -------------- -------------------------  4/11 [narwhals]\n",
      "   -------------- -------------------------  4/11 [narwhals]\n",
      "   ------------------ ---------------------  5/11 [blinker]\n",
      "   --------------------- ------------------  6/11 [pydeck]\n",
      "   --------------------- ------------------  6/11 [pydeck]\n",
      "   --------------------- ------------------  6/11 [pydeck]\n",
      "   --------------------- ------------------  6/11 [pydeck]\n",
      "   --------------------- ------------------  6/11 [pydeck]\n",
      "   ------------------------- --------------  7/11 [gitdb]\n",
      "   ------------------------- --------------  7/11 [gitdb]\n",
      "   ------------------------- --------------  7/11 [gitdb]\n",
      "   ------------------------- --------------  7/11 [gitdb]\n",
      "   ------------------------- --------------  7/11 [gitdb]\n",
      "   ----------------------------- ----------  8/11 [gitpython]\n",
      "   ----------------------------- ----------  8/11 [gitpython]\n",
      "   ----------------------------- ----------  8/11 [gitpython]\n",
      "   ----------------------------- ----------  8/11 [gitpython]\n",
      "   ----------------------------- ----------  8/11 [gitpython]\n",
      "   ----------------------------- ----------  8/11 [gitpython]\n",
      "   ----------------------------- ----------  8/11 [gitpython]\n",
      "   ----------------------------- ----------  8/11 [gitpython]\n",
      "   -------------------------------- -------  9/11 [altair]\n",
      "   -------------------------------- -------  9/11 [altair]\n",
      "   -------------------------------- -------  9/11 [altair]\n",
      "   -------------------------------- -------  9/11 [altair]\n",
      "   -------------------------------- -------  9/11 [altair]\n",
      "   -------------------------------- -------  9/11 [altair]\n",
      "   -------------------------------- -------  9/11 [altair]\n",
      "   -------------------------------- -------  9/11 [altair]\n",
      "   -------------------------------- -------  9/11 [altair]\n",
      "   -------------------------------- -------  9/11 [altair]\n",
      "   -------------------------------- -------  9/11 [altair]\n",
      "   -------------------------------- -------  9/11 [altair]\n",
      "   -------------------------------- -------  9/11 [altair]\n",
      "   -------------------------------- -------  9/11 [altair]\n",
      "   -------------------------------- -------  9/11 [altair]\n",
      "   -------------------------------- -------  9/11 [altair]\n",
      "   -------------------------------- -------  9/11 [altair]\n",
      "   ------------------------------------ --- 10/11 [streamlit]\n",
      "   ------------------------------------ --- 10/11 [streamlit]\n",
      "   ------------------------------------ --- 10/11 [streamlit]\n",
      "   ------------------------------------ --- 10/11 [streamlit]\n",
      "   ------------------------------------ --- 10/11 [streamlit]\n",
      "   ------------------------------------ --- 10/11 [streamlit]\n",
      "   ------------------------------------ --- 10/11 [streamlit]\n",
      "   ------------------------------------ --- 10/11 [streamlit]\n",
      "   ------------------------------------ --- 10/11 [streamlit]\n",
      "   ------------------------------------ --- 10/11 [streamlit]\n",
      "   ------------------------------------ --- 10/11 [streamlit]\n",
      "   ------------------------------------ --- 10/11 [streamlit]\n",
      "   ------------------------------------ --- 10/11 [streamlit]\n",
      "   ------------------------------------ --- 10/11 [streamlit]\n",
      "   ------------------------------------ --- 10/11 [streamlit]\n",
      "   ------------------------------------ --- 10/11 [streamlit]\n",
      "   ------------------------------------ --- 10/11 [streamlit]\n",
      "   ------------------------------------ --- 10/11 [streamlit]\n",
      "   ------------------------------------ --- 10/11 [streamlit]\n",
      "   ------------------------------------ --- 10/11 [streamlit]\n",
      "   ------------------------------------ --- 10/11 [streamlit]\n",
      "   ------------------------------------ --- 10/11 [streamlit]\n",
      "   ------------------------------------ --- 10/11 [streamlit]\n",
      "   ------------------------------------ --- 10/11 [streamlit]\n",
      "   ------------------------------------ --- 10/11 [streamlit]\n",
      "   ------------------------------------ --- 10/11 [streamlit]\n",
      "   ------------------------------------ --- 10/11 [streamlit]\n",
      "   ------------------------------------ --- 10/11 [streamlit]\n",
      "   ------------------------------------ --- 10/11 [streamlit]\n",
      "   ------------------------------------ --- 10/11 [streamlit]\n",
      "   ------------------------------------ --- 10/11 [streamlit]\n",
      "   ------------------------------------ --- 10/11 [streamlit]\n",
      "   ------------------------------------ --- 10/11 [streamlit]\n",
      "   ------------------------------------ --- 10/11 [streamlit]\n",
      "   ------------------------------------ --- 10/11 [streamlit]\n",
      "   ------------------------------------ --- 10/11 [streamlit]\n",
      "   ------------------------------------ --- 10/11 [streamlit]\n",
      "   ------------------------------------ --- 10/11 [streamlit]\n",
      "   ------------------------------------ --- 10/11 [streamlit]\n",
      "   ------------------------------------ --- 10/11 [streamlit]\n",
      "   ------------------------------------ --- 10/11 [streamlit]\n",
      "   ------------------------------------ --- 10/11 [streamlit]\n",
      "   ------------------------------------ --- 10/11 [streamlit]\n",
      "   ------------------------------------ --- 10/11 [streamlit]\n",
      "   ------------------------------------ --- 10/11 [streamlit]\n",
      "   ------------------------------------ --- 10/11 [streamlit]\n",
      "   ------------------------------------ --- 10/11 [streamlit]\n",
      "   ------------------------------------ --- 10/11 [streamlit]\n",
      "   ------------------------------------ --- 10/11 [streamlit]\n",
      "   ------------------------------------ --- 10/11 [streamlit]\n",
      "   ------------------------------------ --- 10/11 [streamlit]\n",
      "   ------------------------------------ --- 10/11 [streamlit]\n",
      "   ------------------------------------ --- 10/11 [streamlit]\n",
      "   ------------------------------------ --- 10/11 [streamlit]\n",
      "   ------------------------------------ --- 10/11 [streamlit]\n",
      "   ------------------------------------ --- 10/11 [streamlit]\n",
      "   ------------------------------------ --- 10/11 [streamlit]\n",
      "   ------------------------------------ --- 10/11 [streamlit]\n",
      "   ------------------------------------ --- 10/11 [streamlit]\n",
      "   ------------------------------------ --- 10/11 [streamlit]\n",
      "   ------------------------------------ --- 10/11 [streamlit]\n",
      "   ---------------------------------------- 11/11 [streamlit]\n",
      "\n",
      "Successfully installed altair-5.5.0 blinker-1.9.0 gitdb-4.0.12 gitpython-3.1.44 narwhals-1.46.0 pyarrow-20.0.0 pydeck-0.9.1 smmap-5.0.2 streamlit-1.46.1 toml-0.10.2 watchdog-6.0.0\n"
     ]
    }
   ],
   "source": [
    "!pip install streamlit"
   ]
  }
 ],
 "metadata": {
  "kernelspec": {
   "display_name": "venv",
   "language": "python",
   "name": "python3"
  },
  "language_info": {
   "codemirror_mode": {
    "name": "ipython",
    "version": 3
   },
   "file_extension": ".py",
   "mimetype": "text/x-python",
   "name": "python",
   "nbconvert_exporter": "python",
   "pygments_lexer": "ipython3",
   "version": "3.10.18"
  }
 },
 "nbformat": 4,
 "nbformat_minor": 2
}
